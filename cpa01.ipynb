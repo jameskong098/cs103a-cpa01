{
 "cells": [
  {
   "cell_type": "markdown",
   "metadata": {},
   "source": [
    "This dataset contains US national hate crime data from 1991-2020. \n",
    "\n",
    "Download Link: https://crime-data-explorer.fr.cloud.gov/pages/downloads\n",
    "\n",
    "Scroll down to additional datasets until you find hate crime, then click on download. The zip file should contain a csv file. \n",
    "\n",
    "Question 1: Has black hate crime violence gone down since 1991 or increased?\n",
    "\n",
    "Question 2: Has COVID-19 had a significant impact on hate crime rates for Asian Americans?"
   ]
  },
  {
   "cell_type": "code",
   "execution_count": 7,
   "metadata": {},
   "outputs": [],
   "source": [
    "import csv\n",
    "import matplotlib.pyplot as pyplot"
   ]
  },
  {
   "cell_type": "code",
   "execution_count": 8,
   "metadata": {},
   "outputs": [
    {
     "name": "stdout",
     "output_type": "stream",
     "text": [
      "219577\n"
     ]
    },
    {
     "data": {
      "text/plain": [
       "{'INCIDENT_ID': '1352635',\n",
       " 'DATA_YEAR': '2018',\n",
       " 'ORI': 'TN0470100',\n",
       " 'PUB_AGENCY_NAME': 'Knoxville',\n",
       " 'PUB_AGENCY_UNIT': '',\n",
       " 'AGENCY_TYPE_NAME': 'City',\n",
       " 'STATE_ABBR': 'TN',\n",
       " 'STATE_NAME': 'Tennessee',\n",
       " 'DIVISION_NAME': 'East South Central',\n",
       " 'REGION_NAME': 'South',\n",
       " 'POPULATION_GROUP_CODE': '2',\n",
       " 'POPULATION_GROUP_DESC': 'Cities from 100,000 thru 249,999',\n",
       " 'INCIDENT_DATE': '02-MAY-18',\n",
       " 'ADULT_VICTIM_COUNT': '1',\n",
       " 'JUVENILE_VICTIM_COUNT': '0',\n",
       " 'TOTAL_OFFENDER_COUNT': '0',\n",
       " 'ADULT_OFFENDER_COUNT': '',\n",
       " 'JUVENILE_OFFENDER_COUNT': '',\n",
       " 'OFFENDER_RACE': 'Unknown',\n",
       " 'OFFENDER_ETHNICITY': 'Unknown',\n",
       " 'VICTIM_COUNT': '1',\n",
       " 'OFFENSE_NAME': 'Destruction/Damage/Vandalism of Property',\n",
       " 'TOTAL_INDIVIDUAL_VICTIMS': '1',\n",
       " 'LOCATION_NAME': 'Residence/Home',\n",
       " 'BIAS_DESC': 'Anti-Black or African American',\n",
       " 'VICTIM_TYPES': 'Individual',\n",
       " 'MULTIPLE_OFFENSE': 'S',\n",
       " 'MULTIPLE_BIAS': 'S'}"
      ]
     },
     "execution_count": 8,
     "metadata": {},
     "output_type": "execute_result"
    }
   ],
   "source": [
    "with open('hate_crime.csv', 'r', encoding='utf-8') as csvfile:\n",
    "    reader = csv.DictReader(csvfile)\n",
    "    data = [row for row in reader]\n",
    "    csvfile.close()\n",
    "print(len(data))\n",
    "data[200000]"
   ]
  }
 ],
 "metadata": {
  "interpreter": {
   "hash": "d50fa8438d3a22ce00cb7f031103c280c806329b134d11ee62513c1adc586b0d"
  },
  "kernelspec": {
   "display_name": "Python 3.9.7 ('base')",
   "language": "python",
   "name": "python3"
  },
  "language_info": {
   "codemirror_mode": {
    "name": "ipython",
    "version": 3
   },
   "file_extension": ".py",
   "mimetype": "text/x-python",
   "name": "python",
   "nbconvert_exporter": "python",
   "pygments_lexer": "ipython3",
   "version": "3.9.7"
  },
  "orig_nbformat": 4
 },
 "nbformat": 4,
 "nbformat_minor": 2
}
